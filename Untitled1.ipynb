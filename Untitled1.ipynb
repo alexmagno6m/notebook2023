{
 "cells": [
  {
   "cell_type": "code",
   "execution_count": null,
   "id": "bc2942b1",
   "metadata": {},
   "outputs": [
    {
     "name": "stderr",
     "output_type": "stream",
     "text": [
      "Address already in use\n",
      "Port 8050 is in use by another program. Either identify and stop that program, or start the server with a different port.\n"
     ]
    }
   ],
   "source": [
    "from dash import Dash, dash_table\n",
    "import urllib.request\n",
    "import ssl\n",
    "import pandas as pd\n",
    "from jupyter_dash import JupyterDash\n",
    "\n",
    "ssl._create_default_https_context = ssl._create_unverified_context\n",
    "r = urllib.request.urlopen('https://raw.githubusercontent.com/plotly/datasets/master/solar.csv')\n",
    "df = pd.read_csv(r)\n",
    "app = JupyterDash(__name__)\n",
    "app.layout = dash_table.DataTable(df.to_dict('records'), [{\"name\": i, \"id\": i} for i in df.columns])\n",
    "\n",
    "if __name__ == '__main__':\n",
    "    app.run_server(mode=\"inline\")"
   ]
  },
  {
   "cell_type": "code",
   "execution_count": null,
   "id": "5a99e84d",
   "metadata": {},
   "outputs": [],
   "source": []
  }
 ],
 "metadata": {
  "kernelspec": {
   "display_name": "Python 3 (ipykernel)",
   "language": "python",
   "name": "python3"
  },
  "language_info": {
   "codemirror_mode": {
    "name": "ipython",
    "version": 3
   },
   "file_extension": ".py",
   "mimetype": "text/x-python",
   "name": "python",
   "nbconvert_exporter": "python",
   "pygments_lexer": "ipython3",
   "version": "3.9.4"
  },
  "toc": {
   "base_numbering": 1,
   "nav_menu": {},
   "number_sections": true,
   "sideBar": true,
   "skip_h1_title": false,
   "title_cell": "Table of Contents",
   "title_sidebar": "Contents",
   "toc_cell": false,
   "toc_position": {},
   "toc_section_display": true,
   "toc_window_display": false
  }
 },
 "nbformat": 4,
 "nbformat_minor": 5
}
